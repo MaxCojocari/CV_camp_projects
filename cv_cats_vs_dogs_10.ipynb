{
  "nbformat": 4,
  "nbformat_minor": 0,
  "metadata": {
    "colab": {
      "name": "cv_cats_vs_dogs.10.ipynb",
      "provenance": [],
      "collapsed_sections": [],
      "authorship_tag": "ABX9TyO/HRFsHPLjqtoa9Y4n2yq2",
      "include_colab_link": true
    },
    "kernelspec": {
      "name": "python3",
      "display_name": "Python 3"
    },
    "language_info": {
      "name": "python"
    },
    "accelerator": "GPU"
  },
  "cells": [
    {
      "cell_type": "markdown",
      "metadata": {
        "id": "view-in-github",
        "colab_type": "text"
      },
      "source": [
        "<a href=\"https://colab.research.google.com/github/MaxCojocari/CV_camp_projects/blob/main/cv_cats_vs_dogs_10.ipynb\" target=\"_parent\"><img src=\"https://colab.research.google.com/assets/colab-badge.svg\" alt=\"Open In Colab\"/></a>"
      ]
    },
    {
      "cell_type": "code",
      "metadata": {
        "colab": {
          "base_uri": "https://localhost:8080/"
        },
        "id": "S4Nshmdb69GT",
        "outputId": "bd500a57-154f-4374-f94a-14cded6c6e01"
      },
      "source": [
        "from google.colab import drive\n",
        "drive.mount('/content/drive')"
      ],
      "execution_count": null,
      "outputs": [
        {
          "output_type": "stream",
          "name": "stdout",
          "text": [
            "Drive already mounted at /content/drive; to attempt to forcibly remount, call drive.mount(\"/content/drive\", force_remount=True).\n"
          ]
        }
      ]
    },
    {
      "cell_type": "code",
      "metadata": {
        "id": "IZF3z6xw7FpS"
      },
      "source": [
        "!mkdir -p ~/.kaggle\n",
        "!cp drive/MyDrive/kaggle.json ~/.kaggle\n",
        "!chmod 600 ~/.kaggle/kaggle.json"
      ],
      "execution_count": null,
      "outputs": []
    },
    {
      "cell_type": "code",
      "metadata": {
        "colab": {
          "base_uri": "https://localhost:8080/"
        },
        "id": "yixwuTzl7R6Y",
        "outputId": "0993b4ba-d9ca-4549-cf46-aa1c360de5cd"
      },
      "source": [
        "!kaggle datasets download --unzip -d tongpython/cat-and-dog"
      ],
      "execution_count": null,
      "outputs": [
        {
          "output_type": "stream",
          "name": "stdout",
          "text": [
            "Downloading cat-and-dog.zip to /content\n",
            " 93% 203M/218M [00:01<00:00, 118MB/s]\n",
            "100% 218M/218M [00:01<00:00, 122MB/s]\n"
          ]
        }
      ]
    },
    {
      "cell_type": "code",
      "metadata": {
        "colab": {
          "base_uri": "https://localhost:8080/"
        },
        "id": "_NmhSgYK7a8g",
        "outputId": "5deffafd-68ae-4408-cc45-7f081cbc3c36"
      },
      "source": [
        "#Important imports\n",
        "import torch\n",
        "from torch import nn as nn\n",
        "from torch.utils.data import DataLoader\n",
        "from torch import optim \n",
        "import matplotlib.pyplot as plt\n",
        "from torch.nn import functional as F\n",
        "from torchvision.datasets import ImageFolder\n",
        "from torchvision import transforms,models\n",
        "import matplotlib.pyplot as plt\n",
        "\n",
        "#Choosing devide to be gpu if have one, else cpu\n",
        "cuda_available = torch.cuda.is_available()\n",
        "\n",
        "# If cuda is available we are going to use it\n",
        "# otherwise we are going to train the model on the cpu\n",
        "DEVICE = (\n",
        "    torch.device('cuda')\n",
        "    if cuda_available\n",
        "    else torch.device('cpu')\n",
        ")\n",
        "\n",
        "print(\n",
        "    'We are going to train the model using ', device,\n",
        "    (', bitch!!!' if cuda_available else '.'), sep=''\n",
        ") "
      ],
      "execution_count": null,
      "outputs": [
        {
          "output_type": "stream",
          "name": "stdout",
          "text": [
            "We are going to train the model using cuda, bitch!!!\n"
          ]
        }
      ]
    },
    {
      "cell_type": "code",
      "metadata": {
        "id": "EF9vGhnV-jEl"
      },
      "source": [
        "transformations = transforms.Compose([\n",
        "    transforms.Resize((224,224)),\n",
        "    transforms.ToTensor(),\n",
        "    transforms.Normalize(\n",
        "        mean=[0.485, 0.456, 0.406],\n",
        "        std=[0.229, 0.224, 0.225]\n",
        "    )\n",
        "])"
      ],
      "execution_count": null,
      "outputs": []
    },
    {
      "cell_type": "code",
      "metadata": {
        "id": "JVGeUd8Q-rTi"
      },
      "source": [
        "train_data = ImageFolder(r'/content/drive/MyDrive/Data_ML/training_set/training_set', transform = transformations)\n",
        "test_data = ImageFolder(r'/content/drive/MyDrive/Data_ML/test_set/test_set', transform = transformations)"
      ],
      "execution_count": null,
      "outputs": []
    },
    {
      "cell_type": "code",
      "metadata": {
        "id": "dWX1dWskBhxS"
      },
      "source": [
        "class Net(nn.Module):\n",
        "\n",
        "  def __init__(self):\n",
        "        super().__init__()\n",
        "\n",
        "        #(224, 224)\n",
        "\n",
        "        self.conv1 = nn.Conv2d(3, 32, kernel_size=3, padding=1)\n",
        "\n",
        "        self.pool1 = nn.MaxPool2d(2)\n",
        "\n",
        "        #(112, 112)\n",
        "\n",
        "        self.conv2 = nn.Conv2d(32, 64, kernel_size=3, padding=1)\n",
        "\n",
        "        self.pool2 = nn.MaxPool2d(2)\n",
        "\n",
        "        #(56, 56)\n",
        "\n",
        "        self.conv3 = nn.Conv2d(64, 128, kernel_size=3, padding=1)\n",
        "\n",
        "        self.pool3 = nn.MaxPool2d(2)\n",
        "\n",
        "        #(28, 28)\n",
        "\n",
        "        self.flatten = nn.Flatten()\n",
        "\n",
        "        self.fc1 = nn.Linear(128*28*28, 256)\n",
        "        self.fc2 = nn.Linear(256, 128)\n",
        "        self.fc3 = nn.Linear(128, 1)\n",
        "\n",
        "  def forward(self, x):\n",
        "        out = self.pool1(F.relu(self.conv1(x)))\n",
        "        out = self.pool2(F.relu(self.conv2(out)))\n",
        "        out = self.pool3(F.relu(self.conv3(out)))\n",
        "\n",
        "        out = self.flatten(out)\n",
        "\n",
        "        out = F.relu(self.fc1(out))\n",
        "        out = F.relu(self.fc2(out))\n",
        "        out = torch.sigmoid(self.fc3(out))\n",
        "\n",
        "    return out\n"
      ],
      "execution_count": null,
      "outputs": []
    },
    {
      "cell_type": "code",
      "metadata": {
        "id": "_QLLnek4mQK8"
      },
      "source": [
        "# Training loop for our network\n",
        "def training_loop(n_epochs, optimizer, model, loss_fn, train_loader, test_loader, print_plot=True):\n",
        "\n",
        "    #Initializing two lists to save accuracy to plot them later\n",
        "    train_accuracy = torch.zeros(n_epochs)\n",
        "    test_accuracy = torch.zeros(n_epochs)\n",
        "\n",
        "    #Going thru every epoch\n",
        "    for epoch in range(n_epochs):\n",
        "\n",
        "        #Going thru example, thru every batch, in our case, thru all data at once\n",
        "        for example, labels in train_loader:     \n",
        "\n",
        "            #Translating calculations to gpu if is available\n",
        "            example = example.to(DEVICE)\n",
        "            labels = labels.to(DEVICE)\n",
        "\n",
        "            # ensuring equal number of dimensions for labels and examples\n",
        "            labels  = labels.unsqueeze(1)\n",
        "\n",
        "            # running our data thru our data - forward\n",
        "            output = model(example.float())\n",
        "            # Getting loss of our network right now\n",
        "            loss = loss_fn(output, labels.float())\n",
        "\n",
        "            # Zeroing the gradient to not stack it from other iterations\n",
        "            optimizer.zero_grad()\n",
        "            #Runing backward part of the neural network, getting gradiets\n",
        "            loss.backward()\n",
        "            #Updating our paramters\n",
        "            optimizer.step()\n",
        "            \n",
        "            \n",
        "        with torch.no_grad():\n",
        "            \n",
        "            for loader, accuracy in [(train_loader, train_accuracy),(test_loader, test_accuracy)]:\n",
        "                correct = 0\n",
        "                total = 0\n",
        "\n",
        "                for examples, labels in loader:\n",
        "                    examples = examples.to(device=DEVICE)\n",
        "                    labels = labels.to(device=DEVICE).view(-1, 1)\n",
        "\n",
        "                    outputs = model(examples.float())\n",
        "                    predicted = torch.round(outputs)\n",
        "\n",
        "                    total += labels.shape[0]\n",
        "                    correct += (predicted == labels).sum()\n",
        "\n",
        "                accuracy[epoch] = correct / total\n",
        "                \n",
        "        print(f'Epoch {epoch+1})', \n",
        "              f'Train Accuracy: {train_accuracy[epoch]}',\n",
        "              f'Test Accuracy: {test_accuracy[epoch]}')\n",
        "\n",
        "    #If set to True, print graph of train and validation loss\n",
        "    if print_plot:\n",
        "\n",
        "        #Setting x-ticks\n",
        "        epochs = range(n_epochs)\n",
        "\n",
        "        #Ploting both curves, train and val \n",
        "        plt.plot(epochs, train_accuracy, 'g', label='Training accuracy')\n",
        "        plt.plot(epochs, test_accuracy, 'b', label='Test accuracy')\n",
        "        plt.title('Training and Test accuracy')\n",
        "        plt.xlabel('Epochs')\n",
        "        plt.ylabel('Loss')\n",
        "        plt.legend()\n",
        "        plt.show()"
      ],
      "execution_count": null,
      "outputs": []
    },
    {
      "cell_type": "code",
      "metadata": {
        "id": "dOWeNqCQmhfk"
      },
      "source": [
        "train_loader = DataLoader(train_data, batch_size = 32, shuffle=True)\n",
        "test_loader = DataLoader(test_data, batch_size = 32, shuffle=True)"
      ],
      "execution_count": null,
      "outputs": []
    },
    {
      "cell_type": "code",
      "metadata": {
        "id": "as4L3LA3CGjv",
        "colab": {
          "base_uri": "https://localhost:8080/",
          "height": 465
        },
        "outputId": "a3e78cd0-1dfc-4011-ce4f-0ad08f8bc4e4"
      },
      "source": [
        "learning_rate = 1e-3 # 0.001\n",
        "\n",
        "model = Net().to(DEVICE)\n",
        "\n",
        "optimizer = optim.Adam(model.parameters(),lr = learning_rate)\n",
        "loss_fn = nn.BCELoss()\n",
        "\n",
        "training_loop(\n",
        "    n_epochs = 10,\n",
        "    optimizer = optimizer,\n",
        "    model = model,\n",
        "    loss_fn = loss_fn,\n",
        "    print_plot = True,\n",
        "    train_loader = train_loader,\n",
        "    test_loader = test_loader\n",
        ")"
      ],
      "execution_count": null,
      "outputs": [
        {
          "output_type": "stream",
          "name": "stdout",
          "text": [
            "Epoch 1) Train Accuracy: 0.6860711574554443 Test Accuracy: 0.6712802648544312\n",
            "Epoch 2) Train Accuracy: 0.7833853363990784 Test Accuracy: 0.7394957542419434\n",
            "Epoch 3) Train Accuracy: 0.8577138781547546 Test Accuracy: 0.7607513070106506\n",
            "Epoch 4) Train Accuracy: 0.8933166265487671 Test Accuracy: 0.7627285718917847\n",
            "Epoch 5) Train Accuracy: 0.961149275302887 Test Accuracy: 0.7736034989356995\n",
            "Epoch 6) Train Accuracy: 0.9885071516036987 Test Accuracy: 0.7740978598594666\n",
            "Epoch 7) Train Accuracy: 0.9888819456100464 Test Accuracy: 0.7681660652160645\n",
            "Epoch 8) Train Accuracy: 0.9948781728744507 Test Accuracy: 0.7607513070106506\n",
            "Epoch 9) Train Accuracy: 0.9850093126296997 Test Accuracy: 0.7627285718917847\n",
            "Epoch 10) Train Accuracy: 0.9940037131309509 Test Accuracy: 0.7686603665351868\n"
          ]
        },
        {
          "output_type": "display_data",
          "data": {
            "image/png": "[encoded data removed]",
            "text/plain": [
              "<Figure size 432x288 with 1 Axes>"
            ]
          },
          "metadata": {
            "needs_background": "light"
          }
        }
      ]
    },
    {
      "cell_type": "code",
      "metadata": {
        "colab": {
          "base_uri": "https://localhost:8080/"
        },
        "id": "k9mGqeH2W2nT",
        "outputId": "30948ba0-4865-48e2-fb8d-e650079781e1"
      },
      "source": [
        "from collections import OrderedDict\n",
        "\n",
        "model = models.resnet50(pretrained = True)\n",
        "\n",
        "for param in model.parameters():\n",
        "    param.required_grad = False\n",
        "    \n",
        "nr_feat = model.fc.in_features #2048\n",
        "model.fc = nn.Sequential(OrderedDict([('fc',nn.Linear(nr_feat,1)),('sigmoid',nn.Sigmoid())]))\n",
        "\n",
        "learning_rate = 1e-3\n",
        "model = model.to(DEVICE)\n",
        "optimizer = optim.Adam(model.parameters(),lr = learning_rate)\n",
        "loss_fn = nn.BCELoss()\n",
        "\n",
        "#loss_fn = nn.BCEWithLogitsLoss()\n",
        "\n",
        "training_loop(\n",
        "    n_epochs = 10,\n",
        "    optimizer = optimizer,\n",
        "    model = model,\n",
        "    loss_fn = loss_fn,\n",
        "    print_plot = True,\n",
        "    train_loader = train_loader,\n",
        "    test_loader = test_loader\n",
        ")"
      ],
      "execution_count": null,
      "outputs": [
        {
          "output_type": "stream",
          "name": "stdout",
          "text": [
            "Epoch 1) Train Accuracy: 0.930168628692627 Test Accuracy: 0.9214038252830505\n",
            "Epoch 2) Train Accuracy: 0.9455339908599854 Test Accuracy: 0.9248639941215515\n",
            "Epoch 3) Train Accuracy: 0.9579012989997864 Test Accuracy: 0.9347503185272217\n",
            "Epoch 4) Train Accuracy: 0.9672704339027405 Test Accuracy: 0.9451309442520142\n",
            "Epoch 5) Train Accuracy: 0.9607744812965393 Test Accuracy: 0.9382105469703674\n",
            "Epoch 6) Train Accuracy: 0.9740161895751953 Test Accuracy: 0.9357389807701111\n",
            "Epoch 7) Train Accuracy: 0.9762648344039917 Test Accuracy: 0.9416707158088684\n",
            "Epoch 8) Train Accuracy: 0.9765146374702454 Test Accuracy: 0.9396934509277344\n",
            "Epoch 9) Train Accuracy: 0.9800124764442444 Test Accuracy: 0.9357389807701111\n",
            "Epoch 10) Train Accuracy: 0.9777638912200928 Test Accuracy: 0.9446366429328918\n"
          ]
        },
        {
          "output_type": "display_data",
          "data": {
            "image/png": "[encoded data removed]",
            "text/plain": [
              "<Figure size 432x288 with 1 Axes>"
            ]
          },
          "metadata": {
            "needs_background": "light"
          }
        }
      ]
    },
    {
      "cell_type": "code",
      "metadata": {
        "id": "7Zpd8BfqcFMb"
      },
      "source": [
        ""
      ],
      "execution_count": null,
      "outputs": []
    }
  ]
}