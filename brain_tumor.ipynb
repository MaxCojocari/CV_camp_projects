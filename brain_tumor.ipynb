{
  "nbformat": 4,
  "nbformat_minor": 0,
  "metadata": {
    "colab": {
      "name": "brain_tumor.ipynb",
      "provenance": [],
      "collapsed_sections": [],
      "authorship_tag": "ABX9TyN69ZqrGNZDosLhhQvfy4kJ",
      "include_colab_link": true
    },
    "kernelspec": {
      "name": "python3",
      "display_name": "Python 3"
    },
    "language_info": {
      "name": "python"
    },
    "accelerator": "GPU",
    "widgets": {
      "application/vnd.jupyter.widget-state+json": {
        "2e8f7bb775a74e02b907a5b2c2896e1a": {
          "model_module": "@jupyter-widgets/controls",
          "model_name": "HBoxModel",
          "model_module_version": "1.5.0",
          "state": {
            "_view_name": "HBoxView",
            "_dom_classes": [],
            "_model_name": "HBoxModel",
            "_view_module": "@jupyter-widgets/controls",
            "_model_module_version": "1.5.0",
            "_view_count": null,
            "_view_module_version": "1.5.0",
            "box_style": "",
            "layout": "IPY_MODEL_9a334d9a996a47cdae0aea483f7521ae",
            "_model_module": "@jupyter-widgets/controls",
            "children": [
              "IPY_MODEL_357cfb98da4a4b9883e815cf13729d39",
              "IPY_MODEL_d2ab72ee6722472484d658bf29e02259",
              "IPY_MODEL_4970687671164ec18acde05d1e43f4fd"
            ]
          }
        },
        "9a334d9a996a47cdae0aea483f7521ae": {
          "model_module": "@jupyter-widgets/base",
          "model_name": "LayoutModel",
          "model_module_version": "1.2.0",
          "state": {
            "_view_name": "LayoutView",
            "grid_template_rows": null,
            "right": null,
            "justify_content": null,
            "_view_module": "@jupyter-widgets/base",
            "overflow": null,
            "_model_module_version": "1.2.0",
            "_view_count": null,
            "flex_flow": null,
            "width": null,
            "min_width": null,
            "border": null,
            "align_items": null,
            "bottom": null,
            "_model_module": "@jupyter-widgets/base",
            "top": null,
            "grid_column": null,
            "overflow_y": null,
            "overflow_x": null,
            "grid_auto_flow": null,
            "grid_area": null,
            "grid_template_columns": null,
            "flex": null,
            "_model_name": "LayoutModel",
            "justify_items": null,
            "grid_row": null,
            "max_height": null,
            "align_content": null,
            "visibility": null,
            "align_self": null,
            "height": null,
            "min_height": null,
            "padding": null,
            "grid_auto_rows": null,
            "grid_gap": null,
            "max_width": null,
            "order": null,
            "_view_module_version": "1.2.0",
            "grid_template_areas": null,
            "object_position": null,
            "object_fit": null,
            "grid_auto_columns": null,
            "margin": null,
            "display": null,
            "left": null
          }
        },
        "357cfb98da4a4b9883e815cf13729d39": {
          "model_module": "@jupyter-widgets/controls",
          "model_name": "HTMLModel",
          "model_module_version": "1.5.0",
          "state": {
            "_view_name": "HTMLView",
            "style": "IPY_MODEL_41b6f573c8264fad8e465b2f27f1d86e",
            "_dom_classes": [],
            "description": "",
            "_model_name": "HTMLModel",
            "placeholder": "​",
            "_view_module": "@jupyter-widgets/controls",
            "_model_module_version": "1.5.0",
            "value": "100%",
            "_view_count": null,
            "_view_module_version": "1.5.0",
            "description_tooltip": null,
            "_model_module": "@jupyter-widgets/controls",
            "layout": "IPY_MODEL_c5ae21863d9c4638bd76e538c1e87bec"
          }
        },
        "d2ab72ee6722472484d658bf29e02259": {
          "model_module": "@jupyter-widgets/controls",
          "model_name": "FloatProgressModel",
          "model_module_version": "1.5.0",
          "state": {
            "_view_name": "ProgressView",
            "style": "IPY_MODEL_78b514ca577b492aa1bece772978d393",
            "_dom_classes": [],
            "description": "",
            "_model_name": "FloatProgressModel",
            "bar_style": "success",
            "max": 102530333,
            "_view_module": "@jupyter-widgets/controls",
            "_model_module_version": "1.5.0",
            "value": 102530333,
            "_view_count": null,
            "_view_module_version": "1.5.0",
            "orientation": "horizontal",
            "min": 0,
            "description_tooltip": null,
            "_model_module": "@jupyter-widgets/controls",
            "layout": "IPY_MODEL_c32b34e638af4e19867ce051932197ad"
          }
        },
        "4970687671164ec18acde05d1e43f4fd": {
          "model_module": "@jupyter-widgets/controls",
          "model_name": "HTMLModel",
          "model_module_version": "1.5.0",
          "state": {
            "_view_name": "HTMLView",
            "style": "IPY_MODEL_8539bc618f91439d8a5e4da153991ee3",
            "_dom_classes": [],
            "description": "",
            "_model_name": "HTMLModel",
            "placeholder": "​",
            "_view_module": "@jupyter-widgets/controls",
            "_model_module_version": "1.5.0",
            "value": " 97.8M/97.8M [00:01&lt;00:00, 70.6MB/s]",
            "_view_count": null,
            "_view_module_version": "1.5.0",
            "description_tooltip": null,
            "_model_module": "@jupyter-widgets/controls",
            "layout": "IPY_MODEL_40b2ffa5c98f4d809f68a35fe20b32c9"
          }
        },
        "41b6f573c8264fad8e465b2f27f1d86e": {
          "model_module": "@jupyter-widgets/controls",
          "model_name": "DescriptionStyleModel",
          "model_module_version": "1.5.0",
          "state": {
            "_view_name": "StyleView",
            "_model_name": "DescriptionStyleModel",
            "description_width": "",
            "_view_module": "@jupyter-widgets/base",
            "_model_module_version": "1.5.0",
            "_view_count": null,
            "_view_module_version": "1.2.0",
            "_model_module": "@jupyter-widgets/controls"
          }
        },
        "c5ae21863d9c4638bd76e538c1e87bec": {
          "model_module": "@jupyter-widgets/base",
          "model_name": "LayoutModel",
          "model_module_version": "1.2.0",
          "state": {
            "_view_name": "LayoutView",
            "grid_template_rows": null,
            "right": null,
            "justify_content": null,
            "_view_module": "@jupyter-widgets/base",
            "overflow": null,
            "_model_module_version": "1.2.0",
            "_view_count": null,
            "flex_flow": null,
            "width": null,
            "min_width": null,
            "border": null,
            "align_items": null,
            "bottom": null,
            "_model_module": "@jupyter-widgets/base",
            "top": null,
            "grid_column": null,
            "overflow_y": null,
            "overflow_x": null,
            "grid_auto_flow": null,
            "grid_area": null,
            "grid_template_columns": null,
            "flex": null,
            "_model_name": "LayoutModel",
            "justify_items": null,
            "grid_row": null,
            "max_height": null,
            "align_content": null,
            "visibility": null,
            "align_self": null,
            "height": null,
            "min_height": null,
            "padding": null,
            "grid_auto_rows": null,
            "grid_gap": null,
            "max_width": null,
            "order": null,
            "_view_module_version": "1.2.0",
            "grid_template_areas": null,
            "object_position": null,
            "object_fit": null,
            "grid_auto_columns": null,
            "margin": null,
            "display": null,
            "left": null
          }
        },
        "78b514ca577b492aa1bece772978d393": {
          "model_module": "@jupyter-widgets/controls",
          "model_name": "ProgressStyleModel",
          "model_module_version": "1.5.0",
          "state": {
            "_view_name": "StyleView",
            "_model_name": "ProgressStyleModel",
            "description_width": "",
            "_view_module": "@jupyter-widgets/base",
            "_model_module_version": "1.5.0",
            "_view_count": null,
            "_view_module_version": "1.2.0",
            "bar_color": null,
            "_model_module": "@jupyter-widgets/controls"
          }
        },
        "c32b34e638af4e19867ce051932197ad": {
          "model_module": "@jupyter-widgets/base",
          "model_name": "LayoutModel",
          "model_module_version": "1.2.0",
          "state": {
            "_view_name": "LayoutView",
            "grid_template_rows": null,
            "right": null,
            "justify_content": null,
            "_view_module": "@jupyter-widgets/base",
            "overflow": null,
            "_model_module_version": "1.2.0",
            "_view_count": null,
            "flex_flow": null,
            "width": null,
            "min_width": null,
            "border": null,
            "align_items": null,
            "bottom": null,
            "_model_module": "@jupyter-widgets/base",
            "top": null,
            "grid_column": null,
            "overflow_y": null,
            "overflow_x": null,
            "grid_auto_flow": null,
            "grid_area": null,
            "grid_template_columns": null,
            "flex": null,
            "_model_name": "LayoutModel",
            "justify_items": null,
            "grid_row": null,
            "max_height": null,
            "align_content": null,
            "visibility": null,
            "align_self": null,
            "height": null,
            "min_height": null,
            "padding": null,
            "grid_auto_rows": null,
            "grid_gap": null,
            "max_width": null,
            "order": null,
            "_view_module_version": "1.2.0",
            "grid_template_areas": null,
            "object_position": null,
            "object_fit": null,
            "grid_auto_columns": null,
            "margin": null,
            "display": null,
            "left": null
          }
        },
        "8539bc618f91439d8a5e4da153991ee3": {
          "model_module": "@jupyter-widgets/controls",
          "model_name": "DescriptionStyleModel",
          "model_module_version": "1.5.0",
          "state": {
            "_view_name": "StyleView",
            "_model_name": "DescriptionStyleModel",
            "description_width": "",
            "_view_module": "@jupyter-widgets/base",
            "_model_module_version": "1.5.0",
            "_view_count": null,
            "_view_module_version": "1.2.0",
            "_model_module": "@jupyter-widgets/controls"
          }
        },
        "40b2ffa5c98f4d809f68a35fe20b32c9": {
          "model_module": "@jupyter-widgets/base",
          "model_name": "LayoutModel",
          "model_module_version": "1.2.0",
          "state": {
            "_view_name": "LayoutView",
            "grid_template_rows": null,
            "right": null,
            "justify_content": null,
            "_view_module": "@jupyter-widgets/base",
            "overflow": null,
            "_model_module_version": "1.2.0",
            "_view_count": null,
            "flex_flow": null,
            "width": null,
            "min_width": null,
            "border": null,
            "align_items": null,
            "bottom": null,
            "_model_module": "@jupyter-widgets/base",
            "top": null,
            "grid_column": null,
            "overflow_y": null,
            "overflow_x": null,
            "grid_auto_flow": null,
            "grid_area": null,
            "grid_template_columns": null,
            "flex": null,
            "_model_name": "LayoutModel",
            "justify_items": null,
            "grid_row": null,
            "max_height": null,
            "align_content": null,
            "visibility": null,
            "align_self": null,
            "height": null,
            "min_height": null,
            "padding": null,
            "grid_auto_rows": null,
            "grid_gap": null,
            "max_width": null,
            "order": null,
            "_view_module_version": "1.2.0",
            "grid_template_areas": null,
            "object_position": null,
            "object_fit": null,
            "grid_auto_columns": null,
            "margin": null,
            "display": null,
            "left": null
          }
        }
      }
    }
  },
  "cells": [
    {
      "cell_type": "markdown",
      "metadata": {
        "id": "view-in-github",
        "colab_type": "text"
      },
      "source": [
        "<a href=\"https://colab.research.google.com/github/MaxCojocari/CV_camp_projects/blob/main/brain_tumor.ipynb\" target=\"_parent\"><img src=\"https://colab.research.google.com/assets/colab-badge.svg\" alt=\"Open In Colab\"/></a>"
      ]
    },
    {
      "cell_type": "code",
      "metadata": {
        "colab": {
          "base_uri": "https://localhost:8080/"
        },
        "id": "YJWsPKh8PvmN",
        "outputId": "f1c56d36-2c43-498e-c75e-a0adb03ae880"
      },
      "source": [
        "from google.colab import drive\n",
        "drive.mount('/content/drive')"
      ],
      "execution_count": 1,
      "outputs": [
        {
          "output_type": "stream",
          "name": "stdout",
          "text": [
            "Mounted at /content/drive\n"
          ]
        }
      ]
    },
    {
      "cell_type": "code",
      "metadata": {
        "colab": {
          "base_uri": "https://localhost:8080/"
        },
        "id": "cDp55mzxQCfe",
        "outputId": "a0d6460e-7988-4e82-b71c-d96cd354176e"
      },
      "source": [
        "!mkdir -p ~/.kaggle\n",
        "!cp drive/MyDrive/kaggle.json ~/.kaggle\n",
        "!chmod 600 ~/.kaggle/kaggle.json\n",
        "!kaggle datasets download --unzip -d masoudnickparvar/brain-tumor-mri-dataset"
      ],
      "execution_count": null,
      "outputs": [
        {
          "output_type": "stream",
          "name": "stdout",
          "text": [
            "Downloading brain-tumor-mri-dataset.zip to /content\n",
            " 98% 145M/149M [00:01<00:00, 126MB/s]\n",
            "100% 149M/149M [00:01<00:00, 136MB/s]\n"
          ]
        }
      ]
    },
    {
      "cell_type": "code",
      "metadata": {
        "id": "xKXTfmaWXcTv"
      },
      "source": [
        "# PyTorch\n",
        "import torch\n",
        "from torch import nn\n",
        "from torch import optim\n",
        "from torchvision import transforms, models\n",
        "from torchvision.datasets import ImageFolder\n",
        "from torch.utils.data import DataLoader\n",
        "# I want to be able to replicate the results, therefore\n",
        "# I use a hard coded seed\n",
        "torch.manual_seed(69)\n",
        "\n",
        "import matplotlib.pyplot as plt\n",
        "import seaborn as sns\n",
        "\n",
        "from sklearn.metrics import confusion_matrix\n",
        "\n",
        "import copy"
      ],
      "execution_count": 2,
      "outputs": []
    },
    {
      "cell_type": "code",
      "metadata": {
        "id": "iFyL_O6C-X5L"
      },
      "source": [
        " transformations = transforms.Compose([\n",
        "    transforms.Resize((224, 224)),\n",
        "    transforms.ToTensor(),\n",
        "    transforms.Normalize(\n",
        "        mean=[0.485, 0.456, 0.406],\n",
        "        std=[0.229, 0.224, 0.225]\n",
        "    )\n",
        "])"
      ],
      "execution_count": 3,
      "outputs": []
    },
    {
      "cell_type": "code",
      "metadata": {
        "id": "r5SdWgIPEI1a"
      },
      "source": [
        "train_data = ImageFolder(r'/content/drive/MyDrive/Data_ML/brain_tumor_data/Training', transform = transformations)\n",
        "test_data = ImageFolder(r'/content/drive/MyDrive/Data_ML/brain_tumor_data/Testing', transform = transformations)"
      ],
      "execution_count": 4,
      "outputs": []
    },
    {
      "cell_type": "code",
      "metadata": {
        "colab": {
          "base_uri": "https://localhost:8080/"
        },
        "id": "C5_yQXLkEZu_",
        "outputId": "704d071f-2e04-4beb-c3dc-b31e087f59e9"
      },
      "source": [
        "# Checking if there is a cuda compatible gpu available\n",
        "cuda_available = torch.cuda.is_available()\n",
        "\n",
        "# If cuda is available we are going to use it\n",
        "# otherwise we are going to train the model on the cpu\n",
        "device = (\n",
        "    torch.device('cuda')\n",
        "    if cuda_available\n",
        "    else torch.device('cpu')\n",
        ")\n",
        "\n",
        "print(f'We are going to train the model using {device}')"
      ],
      "execution_count": 5,
      "outputs": [
        {
          "output_type": "stream",
          "name": "stdout",
          "text": [
            "We are going to train the model using cuda\n"
          ]
        }
      ]
    },
    {
      "cell_type": "code",
      "metadata": {
        "id": "sdNMqJBcF2BS",
        "colab": {
          "base_uri": "https://localhost:8080/",
          "height": 66,
          "referenced_widgets": [
            "2e8f7bb775a74e02b907a5b2c2896e1a",
            "9a334d9a996a47cdae0aea483f7521ae",
            "357cfb98da4a4b9883e815cf13729d39",
            "d2ab72ee6722472484d658bf29e02259",
            "4970687671164ec18acde05d1e43f4fd",
            "41b6f573c8264fad8e465b2f27f1d86e",
            "c5ae21863d9c4638bd76e538c1e87bec",
            "78b514ca577b492aa1bece772978d393",
            "c32b34e638af4e19867ce051932197ad",
            "8539bc618f91439d8a5e4da153991ee3",
            "40b2ffa5c98f4d809f68a35fe20b32c9"
          ]
        },
        "outputId": "c3809990-896a-4af0-c9a3-3d90f066a346"
      },
      "source": [
        "from collections import OrderedDict\n",
        "\n",
        "model = models.resnet50(pretrained = True)\n",
        "\n",
        "for param in model.parameters():\n",
        "    param.required_grad = False\n",
        "    \n",
        "nr_feat = model.fc.in_features #2048\n",
        "model.fc = nn.Linear(nr_feat, 4)\n",
        "#model.fc = nn.Sequential(OrderedDict([('fc',nn.Linear(nr_feat,4)),('sigmoid',nn.Sigmoid())]))\n",
        "\n",
        "learning_rate = 1e-3\n",
        "model = model.to(device)\n",
        "optimizer = optim.Adam(model.parameters(),lr = learning_rate)\n",
        "loss_fn = nn.CrossEntropyLoss()\n",
        "\n",
        "#loss_fn = nn.BCEWithLogitsLoss()"
      ],
      "execution_count": 6,
      "outputs": [
        {
          "output_type": "stream",
          "name": "stderr",
          "text": [
            "Downloading: \"https://download.pytorch.org/models/resnet50-0676ba61.pth\" to /root/.cache/torch/hub/checkpoints/resnet50-0676ba61.pth\n"
          ]
        },
        {
          "output_type": "display_data",
          "data": {
            "application/vnd.jupyter.widget-view+json": {
              "model_id": "2e8f7bb775a74e02b907a5b2c2896e1a",
              "version_minor": 0,
              "version_major": 2
            },
            "text/plain": [
              "  0%|          | 0.00/97.8M [00:00<?, ?B/s]"
            ]
          },
          "metadata": {}
        }
      ]
    },
    {
      "cell_type": "code",
      "metadata": {
        "id": "fG5SWji-GVrS"
      },
      "source": [
        "# Defining the function that contains the training loop\n",
        "def training_loop(\n",
        "    n_epochs, optimizer, model, loss_fn,\n",
        "    train_loader, test_loader, device\n",
        "):\n",
        "    # The following torch tensor will hold information about\n",
        "    # the accuracy results after every epoch\n",
        "    train_accuracy = torch.zeros(n_epochs)\n",
        "    test_accuracy = torch.zeros(n_epochs)\n",
        "\n",
        "    # The actual training_loop\n",
        "    for epoch in range(n_epochs):\n",
        "        model.train()\n",
        "        for examples, labels in train_loader:\n",
        "            # Copying these tensors to the gpu ram\n",
        "            # if needed\n",
        "            # If a cuda compatible gpu is not available\n",
        "            # the data remains on the cpu ram \n",
        "            examples = examples.to(device=device)\n",
        "            labels = labels.to(device=device)\n",
        "\n",
        "            outputs = model(examples)\n",
        "            loss = loss_fn(outputs, labels)\n",
        "\n",
        "            # Sets the gradients of all optimized torch.Tensor to zero\n",
        "            optimizer.zero_grad()\n",
        "            # Back Propagation\n",
        "            loss.backward()\n",
        "            # the optimizer updates the parameters\n",
        "            optimizer.step()\n",
        "\n",
        "        # This loop computes the accuracy for test and train data\n",
        "        # after every epoch\n",
        "        model.eval()\n",
        "        for name, loader, accuracy in [\n",
        "            ('train', train_loader, train_accuracy),\n",
        "            ('test', test_loader, test_accuracy)\n",
        "        ]:\n",
        "            correct = 0\n",
        "            total = 0\n",
        "\n",
        "            # This with statement turns off auto grad\n",
        "            with torch.no_grad():\n",
        "                for examples, labels in loader:\n",
        "                    examples = examples.to(device=device)\n",
        "                    labels = labels.to(device=device)\n",
        "\n",
        "                    outputs = model(examples)\n",
        "                    _, predicted = torch.max(outputs, dim=1)\n",
        "                    \n",
        "                    total += labels.shape[0]\n",
        "                    correct += int((predicted == labels).sum())\n",
        "            \n",
        "            accuracy[epoch] = correct / total\n",
        "\n",
        "\n",
        "        # This piece of code saves the models that has the best\n",
        "        # test accuracy\n",
        "        best_test_accuracy = (epoch == test_accuracy.max(dim=0)[1].item())\n",
        "        if best_test_accuracy:\n",
        "            best_model = copy.deepcopy(model.state_dict())\n",
        "\n",
        "        print(\n",
        "            f'Epoch {epoch + 1})', \n",
        "            f'Train Accuracy: {train_accuracy[epoch]}',\n",
        "            f'Test Accuracy: {test_accuracy[epoch]}',\n",
        "            f'{\"Best test accuracy!\" if best_test_accuracy else \"\"}'\n",
        "        )\n",
        "\n",
        "    # Plotting the train and test accuracy after every epoch\n",
        "    plt.figure(dpi=120)\n",
        "    plt.xlabel('Number of Epochs')\n",
        "    plt.ylabel('Accuracy')\n",
        "    plt.plot(range(1, n_epochs + 1), train_accuracy)\n",
        "    plt.plot(range(1, n_epochs + 1), test_accuracy)\n",
        "    plt.legend(['Train Accuracy', 'Test Accuracy'])\n",
        "    plt.grid()\n",
        "    plt.show()\n",
        "\n",
        "    return best_model"
      ],
      "execution_count": 7,
      "outputs": []
    },
    {
      "cell_type": "code",
      "metadata": {
        "id": "ArWltIrbH824"
      },
      "source": [
        "train_loader = DataLoader(train_data, batch_size = 32, shuffle=True)\n",
        "test_loader = DataLoader(test_data, batch_size = 32, shuffle=True)"
      ],
      "execution_count": 8,
      "outputs": []
    },
    {
      "cell_type": "code",
      "metadata": {
        "colab": {
          "base_uri": "https://localhost:8080/",
          "height": 683
        },
        "id": "eC978fluH-NI",
        "outputId": "b39d59d5-8710-4a3b-f3b0-799448300a65"
      },
      "source": [
        "# Training the model\n",
        "best_model = training_loop(\n",
        "    n_epochs=10,\n",
        "    optimizer=optimizer,\n",
        "    model=model,\n",
        "    loss_fn=loss_fn,\n",
        "    train_loader=train_loader,\n",
        "    test_loader=test_loader,\n",
        "    device=device\n",
        ")"
      ],
      "execution_count": 11,
      "outputs": [
        {
          "output_type": "stream",
          "name": "stderr",
          "text": [
            "/usr/local/lib/python3.7/dist-packages/torch/nn/functional.py:718: UserWarning: Named tensors and all their associated APIs are an experimental feature and subject to change. Please do not use them for anything important until they are released as stable. (Triggered internally at  /pytorch/c10/core/TensorImpl.h:1156.)\n",
            "  return torch.max_pool2d(input, kernel_size, stride, padding, dilation, ceil_mode)\n"
          ]
        },
        {
          "output_type": "stream",
          "name": "stdout",
          "text": [
            "Epoch 1) Train Accuracy: 0.6509103775024414 Test Accuracy: 0.6468344926834106 Best test accuracy!\n",
            "Epoch 2) Train Accuracy: 0.6530112028121948 Test Accuracy: 0.6681922078132629 Best test accuracy!\n",
            "Epoch 3) Train Accuracy: 0.9593837261199951 Test Accuracy: 0.9328756928443909 Best test accuracy!\n",
            "Epoch 4) Train Accuracy: 0.9560574293136597 Test Accuracy: 0.9252479076385498 \n",
            "Epoch 5) Train Accuracy: 0.894957959651947 Test Accuracy: 0.8642258048057556 \n",
            "Epoch 6) Train Accuracy: 0.7190126180648804 Test Accuracy: 0.6933638453483582 \n",
            "Epoch 7) Train Accuracy: 0.8786764740943909 Test Accuracy: 0.8588863611221313 \n",
            "Epoch 8) Train Accuracy: 0.8764005899429321 Test Accuracy: 0.8474447131156921 \n",
            "Epoch 9) Train Accuracy: 0.9856442809104919 Test Accuracy: 0.9610983729362488 Best test accuracy!\n",
            "Epoch 10) Train Accuracy: 0.9879201650619507 Test Accuracy: 0.9610983729362488 \n"
          ]
        },
        {
          "output_type": "display_data",
          "data": {
            "image/png": "[encoded data removed]",
            "text/plain": [
              "<Figure size 720x480 with 1 Axes>"
            ]
          },
          "metadata": {
            "needs_background": "light"
          }
        }
      ]
    },
    {
      "cell_type": "code",
      "metadata": {
        "id": "NRV3WYzlIYvx",
        "colab": {
          "base_uri": "https://localhost:8080/"
        },
        "outputId": "8e3e4d65-872b-4d3f-a7ed-866d72e2639f"
      },
      "source": [
        "# Load the model that had the best test accuracy\n",
        "model.load_state_dict(best_model)"
      ],
      "execution_count": 12,
      "outputs": [
        {
          "output_type": "execute_result",
          "data": {
            "text/plain": [
              "<All keys matched successfully>"
            ]
          },
          "metadata": {},
          "execution_count": 12
        }
      ]
    },
    {
      "cell_type": "code",
      "metadata": {
        "colab": {
          "base_uri": "https://localhost:8080/"
        },
        "id": "-g8aL0wyNSCL",
        "outputId": "4f14b919-9456-47c7-f24d-4ac1df9313fe"
      },
      "source": [
        "correct = 0\n",
        "total = 0\n",
        "\n",
        "y_test = torch.zeros(len(test_data))\n",
        "y_pred = torch.zeros(len(test_data))\n",
        "low = 0\n",
        "\n",
        "# Make predictions on the test data\n",
        "model.eval()\n",
        "with torch.no_grad():\n",
        "    for examples, labels in test_loader:\n",
        "        examples = examples.to(device=device)\n",
        "        labels = labels.to(device=device)\n",
        "\n",
        "        outputs = model(examples)\n",
        "        _, predicted = torch.max(outputs, dim=1)\n",
        "\n",
        "        high = low + labels.shape[0]\n",
        "        y_test[low : high] = labels\n",
        "        y_pred[low : high] = predicted\n",
        "        low = high\n",
        "\n",
        "        total += labels.shape[0]\n",
        "        correct += int((predicted == labels).sum())\n",
        "            \n",
        "accuracy = correct / total\n",
        "accuracy"
      ],
      "execution_count": 14,
      "outputs": [
        {
          "output_type": "execute_result",
          "data": {
            "text/plain": [
              "0.9610983981693364"
            ]
          },
          "metadata": {},
          "execution_count": 14
        }
      ]
    },
    {
      "cell_type": "code",
      "metadata": {
        "colab": {
          "base_uri": "https://localhost:8080/",
          "height": 583
        },
        "id": "UaMsHpMjOHnN",
        "outputId": "801b6c12-1c36-4c9e-cd4e-8bc9cb153610"
      },
      "source": [
        "# Creating a Confusion Matrix plot\n",
        "plt.figure(dpi=150)\n",
        "sns.heatmap(confusion_matrix(y_test, y_pred), annot=True, fmt='d')\n",
        "plt.ylabel('True Label')\n",
        "plt.xlabel('Predicted Label')"
      ],
      "execution_count": 15,
      "outputs": [
        {
          "output_type": "execute_result",
          "data": {
            "text/plain": [
              "Text(0.5, 32.08333333333333, 'Predicted Label')"
            ]
          },
          "metadata": {},
          "execution_count": 15
        },
        {
          "output_type": "display_data",
          "data": {
            "image/png": "[encoded data removed]",
            "text/plain": [
              "<Figure size 900x600 with 2 Axes>"
            ]
          },
          "metadata": {
            "needs_background": "light"
          }
        }
      ]
    },
    {
      "cell_type": "code",
      "metadata": {
        "id": "f9Q4dcrtOZ8Q"
      },
      "source": [
        ""
      ],
      "execution_count": null,
      "outputs": []
    }
  ]
}