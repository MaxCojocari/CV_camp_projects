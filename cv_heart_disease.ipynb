{
  "nbformat": 4,
  "nbformat_minor": 0,
  "metadata": {
    "colab": {
      "name": "cv_heart_disease.ipynb",
      "provenance": [],
      "authorship_tag": "ABX9TyP5rqAQ00elhOSYh2K8H6g0",
      "include_colab_link": true
    },
    "kernelspec": {
      "name": "python3",
      "display_name": "Python 3"
    },
    "language_info": {
      "name": "python"
    }
  },
  "cells": [
    {
      "cell_type": "markdown",
      "metadata": {
        "id": "view-in-github",
        "colab_type": "text"
      },
      "source": [
        "<a href=\"https://colab.research.google.com/github/MaxCojocari/CV_camp_projects/blob/main/cv_heart_disease.ipynb\" target=\"_parent\"><img src=\"https://colab.research.google.com/assets/colab-badge.svg\" alt=\"Open In Colab\"/></a>"
      ]
    },
    {
      "cell_type": "code",
      "metadata": {
        "colab": {
          "base_uri": "https://localhost:8080/"
        },
        "id": "nED-SggGufCI",
        "outputId": "f12bcd59-df9b-481a-8723-0b636ccbe202"
      },
      "source": [
        "from google.colab import drive\n",
        "drive.mount('/content/drive/')"
      ],
      "execution_count": null,
      "outputs": [
        {
          "output_type": "stream",
          "name": "stdout",
          "text": [
            "Mounted at /content/drive/\n"
          ]
        }
      ]
    },
    {
      "cell_type": "code",
      "metadata": {
        "id": "QAD1FwMeUdnn"
      },
      "source": [
        "!mkdir -p ~/.kaggle\n",
        "!cp drive/MyDrive/kaggle.json ~/.kaggle\n",
        "!chmod 600 ~/.kaggle/kaggle.json"
      ],
      "execution_count": null,
      "outputs": []
    },
    {
      "cell_type": "code",
      "metadata": {
        "colab": {
          "base_uri": "https://localhost:8080/"
        },
        "id": "3xII_mAwT4NB",
        "outputId": "1b9a6f59-f5db-4213-8ab5-afec7319d5a7"
      },
      "source": [
        "!kaggle datasets download --unzip -d ronitf/heart-disease-uci"
      ],
      "execution_count": null,
      "outputs": [
        {
          "output_type": "stream",
          "name": "stdout",
          "text": [
            "Downloading heart-disease-uci.zip to /content\n",
            "\r  0% 0.00/3.40k [00:00<?, ?B/s]\n",
            "\r100% 3.40k/3.40k [00:00<00:00, 5.72MB/s]\n"
          ]
        }
      ]
    },
    {
      "cell_type": "code",
      "metadata": {
        "id": "FYCiJi_wPhgU"
      },
      "source": [
        "#Important imports\n",
        "import torch\n",
        "from torch import nn as nn # for NN\n",
        "from torch.utils.data import Dataset # class to create dataset class\n",
        "from torch import optim # Optimizer\n",
        "from torch.nn import functional as F # activation functions\n",
        "import matplotlib.pyplot as plt # to plot a graph\n",
        "import pandas as pd # py data analysis\n",
        "\n",
        "DEVICE = torch.device('cudo' if torch.cuda.is_available() else 'cpu')"
      ],
      "execution_count": null,
      "outputs": []
    },
    {
      "cell_type": "code",
      "metadata": {
        "id": "PfXKF1x1Ptga",
        "cellView": "code"
      },
      "source": [
        "#@title Default title text\n",
        "class DataSet(Dataset):\n",
        "    \n",
        "    def __init__(self, path):\n",
        "        self.dataset = torch.tensor(pd.read_csv(path).values)\n",
        "        \n",
        "    def __len__(self):\n",
        "        return len(self.dataset)\n",
        "    \n",
        "    def __getitem__(self, i):\n",
        "        return self.dataset[i, :-1], self.dataset[i, -1]"
      ],
      "execution_count": null,
      "outputs": []
    },
    {
      "cell_type": "code",
      "metadata": {
        "id": "FWvlcZZaP4-L"
      },
      "source": [
        "class Net(nn.Module):\n",
        "    \n",
        "    def __init__(self, n_features):\n",
        "        super().__init__()\n",
        "        self.n_features = n_features #13\n",
        "        \n",
        "        #fully connected\n",
        "        self.fc1 = nn.Linear(self.n_features, 16)\n",
        "        self.fc2 = nn.Linear(16, 32)\n",
        "        self.fc3 = nn.Linear(32, 1)\n",
        "        \n",
        "    def forward(self, x):\n",
        "        \n",
        "        out = F.relu(self.fc1(x)) #activation function (e.g. sigmoid, relu...)\n",
        "        out = F.relu(self.fc2(out))\n",
        "        out = F.sigmoid(self.fc3(out))\n",
        "\n",
        "        return out"
      ],
      "execution_count": null,
      "outputs": []
    },
    {
      "cell_type": "code",
      "metadata": {
        "id": "-3QtsQNxP95p"
      },
      "source": [
        "def training_loop(n_epoch, optimizer, model, loss_fn, train_loader, test_loader, print_plot):\n",
        "    \n",
        "    train_accuracy = torch.zeros(n_epoch)\n",
        "    test_accuracy = torch.zeros(n_epoch)\n",
        "    \n",
        "    for epoch in range(n_epoch):\n",
        "        \n",
        "        for example, label in train_loader:\n",
        "            \n",
        "            example = example.to(DEVICE)\n",
        "            label = label.to(DEVICE)\n",
        "            \n",
        "            label = label.unsqueeze(1)\n",
        "            \n",
        "            output = model(example.float())\n",
        "            \n",
        "            loss = loss_fn(output, label.float())\n",
        "            \n",
        "            optimizer.zero_grad()\n",
        "            loss.backward()\n",
        "            optimizer.step()\n",
        "            \n",
        "        with torch.no_grad():\n",
        "            \n",
        "            for loader, accuracy in [(train_loader, train_accuracy),(test_loader, test_accuracy)]:\n",
        "                correct = 0\n",
        "                total = 0\n",
        "\n",
        "                for examples, labels in loader:\n",
        "                    examples = examples.to(device=DEVICE)\n",
        "                    labels = labels.to(device=DEVICE).view(-1, 1)\n",
        "\n",
        "                    outputs = model(examples.float())\n",
        "                    predicted = torch.round(outputs)\n",
        "\n",
        "                    total += labels.shape[0]\n",
        "                    correct += (predicted == labels).sum()\n",
        "\n",
        "                accuracy[epoch] = correct / total\n",
        "\n",
        "        if (epoch+1) % 10 ==0:\n",
        "            print(f'Epoch {epoch+1})', \n",
        "                  f'Train Accuracy: {train_accuracy[epoch]}',\n",
        "                  f'Test Accuracy: {test_accuracy[epoch]}') \n",
        "    if print_plot:\n",
        "        #Setting x-ticks\n",
        "        epochs = range(n_epoch)\n",
        "\n",
        "        #Ploting both curves, train and val \n",
        "        plt.plot(epochs, train_accuracy, 'g', label='Training accuracy')\n",
        "        plt.plot(epochs, test_accuracy, 'b', label='Test accuracy')\n",
        "        plt.title('Training and Test loss')\n",
        "        plt.xlabel('Epochs')\n",
        "        plt.ylabel('Accuracy')\n",
        "        plt.legend()\n",
        "        plt.show() "
      ],
      "execution_count": null,
      "outputs": []
    },
    {
      "cell_type": "code",
      "metadata": {
        "id": "KY7eRjZXQC89"
      },
      "source": [
        "data = DataSet(r'heart.csv')\n",
        "\n",
        "n_sample = len(data)\n",
        "n_test = int(0.2*n_sample)\n",
        "\n",
        "train_set, test_set = torch.utils.data.random_split(data, [n_sample-n_test, n_test])\n",
        "\n",
        "train_loader = torch.utils.data.DataLoader(train_set, batch_size = len(train_set), shuffle = True) #nr.of batches can be diferent (len(train_set))\n",
        "test_loader = torch.utils.data.DataLoader(test_set, batch_size = len(train_set), shuffle = True)"
      ],
      "execution_count": null,
      "outputs": []
    },
    {
      "cell_type": "code",
      "metadata": {
        "id": "398_TFnWVTAs",
        "colab": {
          "base_uri": "https://localhost:8080/",
          "height": 1000
        },
        "outputId": "2d593523-49a7-42e3-f567-559747693b94"
      },
      "source": [
        "learning_rate = 0.01\n",
        "\n",
        "model = Net(len(data[0][0])).to(DEVICE)\n",
        "\n",
        "optimizizer = optim.Adam(model.parameters(), lr = learning_rate)\n",
        "\n",
        "loss_fn = nn.BCELoss()\n",
        "\n",
        "training_loop(\n",
        "n_epoch = 400,\n",
        "optimizer = optimizizer,\n",
        "model = model,\n",
        "loss_fn = loss_fn,\n",
        "train_loader = train_loader,\n",
        "test_loader = test_loader,\n",
        "print_plot = True\n",
        ")"
      ],
      "execution_count": null,
      "outputs": [
        {
          "output_type": "stream",
          "name": "stderr",
          "text": [
            "/usr/local/lib/python3.7/dist-packages/torch/nn/functional.py:1805: UserWarning: nn.functional.sigmoid is deprecated. Use torch.sigmoid instead.\n",
            "  warnings.warn(\"nn.functional.sigmoid is deprecated. Use torch.sigmoid instead.\")\n"
          ]
        },
        {
          "output_type": "stream",
          "name": "stdout",
          "text": [
            "Epoch 10) Train Accuracy: 0.5802469253540039 Test Accuracy: 0.6000000238418579\n",
            "Epoch 20) Train Accuracy: 0.6255143880844116 Test Accuracy: 0.6833333373069763\n",
            "Epoch 30) Train Accuracy: 0.6584362387657166 Test Accuracy: 0.7166666388511658\n",
            "Epoch 40) Train Accuracy: 0.6954732537269592 Test Accuracy: 0.7666666507720947\n",
            "Epoch 50) Train Accuracy: 0.6872428059577942 Test Accuracy: 0.800000011920929\n",
            "Epoch 60) Train Accuracy: 0.6995884776115417 Test Accuracy: 0.7666666507720947\n",
            "Epoch 70) Train Accuracy: 0.7201645970344543 Test Accuracy: 0.800000011920929\n",
            "Epoch 80) Train Accuracy: 0.7448559403419495 Test Accuracy: 0.800000011920929\n",
            "Epoch 90) Train Accuracy: 0.7860082387924194 Test Accuracy: 0.800000011920929\n",
            "Epoch 100) Train Accuracy: 0.798353910446167 Test Accuracy: 0.800000011920929\n",
            "Epoch 110) Train Accuracy: 0.8230452537536621 Test Accuracy: 0.7833333611488342\n",
            "Epoch 120) Train Accuracy: 0.8600823283195496 Test Accuracy: 0.8166666626930237\n",
            "Epoch 130) Train Accuracy: 0.8600823283195496 Test Accuracy: 0.8333333134651184\n",
            "Epoch 140) Train Accuracy: 0.8641975522041321 Test Accuracy: 0.8333333134651184\n",
            "Epoch 150) Train Accuracy: 0.8395061492919922 Test Accuracy: 0.8166666626930237\n",
            "Epoch 160) Train Accuracy: 0.8395061492919922 Test Accuracy: 0.8166666626930237\n",
            "Epoch 170) Train Accuracy: 0.8518518805503845 Test Accuracy: 0.8333333134651184\n",
            "Epoch 180) Train Accuracy: 0.8477365970611572 Test Accuracy: 0.8166666626930237\n",
            "Epoch 190) Train Accuracy: 0.855967104434967 Test Accuracy: 0.8166666626930237\n",
            "Epoch 200) Train Accuracy: 0.855967104434967 Test Accuracy: 0.8166666626930237\n",
            "Epoch 210) Train Accuracy: 0.8518518805503845 Test Accuracy: 0.8166666626930237\n",
            "Epoch 220) Train Accuracy: 0.855967104434967 Test Accuracy: 0.8166666626930237\n",
            "Epoch 230) Train Accuracy: 0.8518518805503845 Test Accuracy: 0.8166666626930237\n",
            "Epoch 240) Train Accuracy: 0.855967104434967 Test Accuracy: 0.8166666626930237\n",
            "Epoch 250) Train Accuracy: 0.8518518805503845 Test Accuracy: 0.8166666626930237\n",
            "Epoch 260) Train Accuracy: 0.8477365970611572 Test Accuracy: 0.800000011920929\n",
            "Epoch 270) Train Accuracy: 0.8641975522041321 Test Accuracy: 0.8333333134651184\n",
            "Epoch 280) Train Accuracy: 0.8477365970611572 Test Accuracy: 0.8166666626930237\n",
            "Epoch 290) Train Accuracy: 0.8641975522041321 Test Accuracy: 0.8166666626930237\n",
            "Epoch 300) Train Accuracy: 0.8477365970611572 Test Accuracy: 0.8166666626930237\n",
            "Epoch 310) Train Accuracy: 0.8600823283195496 Test Accuracy: 0.8166666626930237\n",
            "Epoch 320) Train Accuracy: 0.8641975522041321 Test Accuracy: 0.8166666626930237\n",
            "Epoch 330) Train Accuracy: 0.8724279999732971 Test Accuracy: 0.8166666626930237\n",
            "Epoch 340) Train Accuracy: 0.8724279999732971 Test Accuracy: 0.8166666626930237\n",
            "Epoch 350) Train Accuracy: 0.8724279999732971 Test Accuracy: 0.8166666626930237\n",
            "Epoch 360) Train Accuracy: 0.8600823283195496 Test Accuracy: 0.8166666626930237\n",
            "Epoch 370) Train Accuracy: 0.8683127760887146 Test Accuracy: 0.8166666626930237\n",
            "Epoch 380) Train Accuracy: 0.855967104434967 Test Accuracy: 0.8333333134651184\n",
            "Epoch 390) Train Accuracy: 0.855967104434967 Test Accuracy: 0.8333333134651184\n",
            "Epoch 400) Train Accuracy: 0.855967104434967 Test Accuracy: 0.8333333134651184\n"
          ]
        },
        {
          "output_type": "display_data",
          "data": {
            "image/png": "[encoded data removed]",
            "text/plain": [
              "<Figure size 432x288 with 1 Axes>"
            ]
          },
          "metadata": {
            "needs_background": "light"
          }
        }
      ]
    },
    {
      "cell_type": "code",
      "metadata": {
        "id": "Rgsu1Akyw684"
      },
      "source": [
        ""
      ],
      "execution_count": null,
      "outputs": []
    }
  ]
}